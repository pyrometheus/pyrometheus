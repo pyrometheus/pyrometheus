{
 "cells": [
  {
   "cell_type": "code",
   "execution_count": 1,
   "id": "6002f890-b642-4839-9f8b-72baa6739fc9",
   "metadata": {},
   "outputs": [],
   "source": [
    "import h5py\n",
    "import cantera as ct\n",
    "import numpy as np\n",
    "\n",
    "from pyrometheus.codegen.python import PythonCodeGenerator as pyro\n",
    "from matplotlib import pyplot as plt\n",
    "\n",
    "import matplotlib.pyplot as plt\n",
    "plt.rcParams['text.usetex'] = True"
   ]
  },
  {
   "cell_type": "code",
   "execution_count": 2,
   "id": "dc81d1e7-ed08-425e-88a7-7f812b12628a",
   "metadata": {},
   "outputs": [],
   "source": [
    "fuel = 'H2'\n",
    "mech = {'H2': 'sandiego', 'C2H4': 'bfer', 'CH4': 'gri30'}\n",
    "fuel_name = {'H2': 'hydrogen', 'C2H4': 'ethylene'}"
   ]
  },
  {
   "cell_type": "code",
   "execution_count": 3,
   "id": "13546f2f-66f1-4360-8375-5edbc1adad52",
   "metadata": {},
   "outputs": [
    {
     "name": "stdout",
     "output_type": "stream",
     "text": [
      "Equilibrium temperature = 2385.441\n",
      "mixture-averaged flame speed = 2.325731 m/s\n"
     ]
    }
   ],
   "source": [
    "equiv_ratio = 1\n",
    "\n",
    "sol = ct.Solution(f'../mech/{mech[fuel]}.yaml')\n",
    "pyro_gas = pyro.get_thermochem_class(sol)(np)\n",
    "temp_c = 300\n",
    "sol.TP = temp_c, ct.one_atm\n",
    "sol.set_equivalence_ratio(equiv_ratio, f'{fuel}:1', 'O2:0.21, N2:0.79')\n",
    "rho_c = sol.density\n",
    "yf_c = sol.Y[0]\n",
    "\n",
    "sol.equilibrate('HP')\n",
    "temp_eq = sol.T\n",
    "print(f'Equilibrium temperature = {temp_eq:.3f}')\n",
    "\n",
    "temp_c = 300\n",
    "sol.TP = temp_c, ct.one_atm\n",
    "sol.set_equivalence_ratio(equiv_ratio, f'{fuel}:1', 'O2:0.21, N2:0.79')\n",
    "\n",
    "ct_flame = ct.FreeFlame(sol, width=8e-2)\n",
    "ct_flame.set_refine_criteria(ratio=3, slope=0.06, curve=0.12)\n",
    "\n",
    "ct_flame.transport_model = 'mixture-averaged'\n",
    "ct_flame.solve(loglevel=0, auto=True);\n",
    "\n",
    "ct_flame_speed = ct_flame.velocity[0]\n",
    "\n",
    "print(f\"mixture-averaged flame speed = {ct_flame.velocity[0]:7f} m/s\")"
   ]
  },
  {
   "cell_type": "code",
   "execution_count": 4,
   "id": "685fe6e8-a0a4-4b15-8e6f-11abf86c0ff1",
   "metadata": {},
   "outputs": [],
   "source": [
    "def load_snapshot(case_dir, snapshot_number):\n",
    "\n",
    "    if snapshot_number:\n",
    "        add_zeros = 9 - len(str(snapshot_number))\n",
    "        snap_str = add_zeros*'0' + str(snapshot_number)\n",
    "    else:\n",
    "        snap_str = 9*'0'\n",
    "\n",
    "    db = h5py.File(f'../output/{case_dir}/flame_{snap_str}.h5')\n",
    "    t, step = db['time/time_and_step'][:]\n",
    "    x = db['domain/mesh/x'][:]\n",
    "\n",
    "    density = np.sum(\n",
    "        db['cons_vars/densities'][:, :],\n",
    "        axis=0\n",
    "    )\n",
    "\n",
    "    u = db['prim_vars/velocity'][:]\n",
    "    temp = db['prim_vars/temperature'][:]\n",
    "    mass_frac = db['prim_vars/mass_fractions'][:, :]\n",
    "    return t, step, x, u, density, temp, mass_frac"
   ]
  },
  {
   "cell_type": "code",
   "execution_count": 7,
   "id": "8291d4ca-1f17-497d-8eb7-4fd8cb047440",
   "metadata": {},
   "outputs": [],
   "source": [
    "er_str = f'{equiv_ratio:.1f}'.replace('.', 'd')\n",
    "case_dir = f'flame_{fuel_name[fuel]}_er_{er_str}'\n",
    "\n",
    "if fuel == 'C2H4':\n",
    "    i_start = 1001\n",
    "    i_end = 40301\n",
    "elif fuel == 'H2':\n",
    "    i_start = 1000\n",
    "    i_end = 24000 if equiv_ratio == 1.2 else 28000"
   ]
  },
  {
   "cell_type": "code",
   "execution_count": null,
   "id": "22ef7496-6811-4d7e-93c8-a494d9f8fb8d",
   "metadata": {},
   "outputs": [],
   "source": [
    "fresh_tol = 5\n",
    "fresh_margin = 20\n",
    "\n",
    "ts = [] \n",
    "xfront = [] \n",
    "u_fresh = []\n",
    "snapshots = []\n",
    "\n",
    "for n in range(i_start, i_end, 100):\n",
    "    # Load simulation data\n",
    "    t, step, x, u, rho, temp, mass_frac = load_snapshot(case_dir, n)\n",
    "\n",
    "    # Track progress variable front\n",
    "    c = (temp - temp_c) / (temp_eq - temp_c)\n",
    "    j = np.argmax(c < 0.5)\n",
    "    x_f = x[j-1] + (0.5 - c[j-1])*(x[j]-x[j-1])/(c[j]-c[j-1])\n",
    "    j_margin = min(fresh_margin, len(x)-j-2)\n",
    "    mask = (np.arange(len(x)) >= j + j_margin) & (temp <= temp_c + fresh_tol)\n",
    "\n",
    "    # Store results\n",
    "    ts.append(t)\n",
    "    xfront.append(x_f)\n",
    "    u_fresh.append(np.mean(u[mask]))\n",
    "    snapshots.append(n)\n",
    "\n",
    "ts = np.asarray(ts)\n",
    "xfront = np.asarray(xfront)\n",
    "u_fresh = np.asarray(u_fresh)\n",
    "\n",
    "# Filter for smoothness\n",
    "from scipy.signal import savgol_filter\n",
    "xfs = savgol_filter(xfront, window_length=11, polyorder=2, mode='interp')\n",
    "vf = np.gradient(xfs, ts)\n",
    "sl_inst = vf - u_fresh\n",
    "sl_mean = sl_inst[-100:].mean()\n",
    "sl_std = sl_inst[-100:].std()\n",
    "\n",
    "error = np.abs(ct_flame_speed - sl_mean) / ct_flame_speed\n",
    "\n",
    "print(f\"pyro:: flame speed = {sl_mean:.3f} ± {sl_std:.3f} m/s\")\n",
    "print(f'cantera:: flame speed {ct_flame_speed}')\n",
    "print(f\"error: {100*error:.3f}\")"
   ]
  },
  {
   "cell_type": "markdown",
   "id": "70902bcc-f4b5-4e2d-a267-6a8129e75857",
   "metadata": {},
   "source": [
    "# Visualize Flame"
   ]
  },
  {
   "cell_type": "code",
   "execution_count": null,
   "id": "2e46279a-ca90-49ad-b5fe-57f8a4e63c37",
   "metadata": {},
   "outputs": [],
   "source": [
    "n = 20000\n",
    "t_1, step_1, x, u_1, density_1, temp_1, mass_frac_1 = load_snapshot(case_dir, n if fuel == 'H2' else n + 1)\n",
    "omega_1 = pyro_gas.molecular_weights[0] * pyro_gas.get_net_production_rates(\n",
    "    density_1, temp_1, np.where(mass_frac_1 > 0, mass_frac_1, 0)\n",
    ")[0]\n",
    "\n",
    "n = 22000\n",
    "t_2, step_2, _, u_2, density_2, temp_2, mass_frac_2 = load_snapshot(case_dir, n if fuel == 'H2' else n + 1)\n",
    "omega_2 = pyro_gas.molecular_weights[0] * pyro_gas.get_net_production_rates(\n",
    "    density_2, temp_2, np.where(mass_frac_2 > 0, mass_frac_2, 0)\n",
    ")[0]\n",
    "\n",
    "n = 23000\n",
    "t_3, step_3, _, u_3, density_3, temp_3, mass_frac_3 = load_snapshot(case_dir, n if fuel == 'H2' else n + 1)\n",
    "omega_3 = pyro_gas.molecular_weights[0] * pyro_gas.get_net_production_rates(\n",
    "    density_3, temp_3, np.where(mass_frac_3 > 0, mass_frac_3, 0)\n",
    ")[0]\n",
    "\n",
    "n = 24000\n",
    "t_4, step_4, _, u_4, density_4, temp_4, mass_frac_4 = load_snapshot(case_dir, n if fuel == 'H2' else n + 1)\n",
    "omega_4 = pyro_gas.molecular_weights[0] * pyro_gas.get_net_production_rates(\n",
    "    density_4, temp_4, np.where(mass_frac_4 > 0, mass_frac_4, 0)\n",
    ")[0]"
   ]
  },
  {
   "cell_type": "code",
   "execution_count": null,
   "id": "ba561cdb-7b18-46ab-b1b4-acf1edbbba1c",
   "metadata": {},
   "outputs": [],
   "source": [
    "fig, ax = plt.subplots(1, 3, figsize=(12, 3))\n",
    "ax[0].plot(x, temp_1, color='orange')\n",
    "ax[0].plot(x, temp_2, color='red')\n",
    "ax[0].plot(x, temp_3, color='crimson')\n",
    "ax[0].plot(x, temp_4, color='brown')\n",
    "ax[0].set_xlim(0.03, 0.06)\n",
    "\n",
    "ax[1].plot(x, mass_frac_1[1], color='orange')\n",
    "ax[1].plot(x, mass_frac_2[1], color='red')\n",
    "ax[1].plot(x, mass_frac_3[1], color='crimson')\n",
    "ax[1].plot(x, mass_frac_4[1], color='brown')\n",
    "ax[1].set_xlim(0.03, 0.06)\n",
    "\n",
    "ax[2].plot(x, u_1, color='orange')\n",
    "ax[2].plot(x, u_2, color='red')\n",
    "ax[2].plot(x, u_3, color='crimson')\n",
    "ax[2].plot(x, u_4, color='brown')\n",
    "ax[2].set_xlim(0.03, 0.06)\n",
    "\n",
    "plt.tight_layout()\n",
    "plt.show()"
   ]
  },
  {
   "cell_type": "code",
   "execution_count": null,
   "id": "b3ad1c66-4196-4e4d-afc9-5affce101442",
   "metadata": {},
   "outputs": [],
   "source": []
  },
  {
   "cell_type": "code",
   "execution_count": null,
   "id": "c38d1dc0-7102-4e08-ab08-25b047cb17d8",
   "metadata": {},
   "outputs": [],
   "source": []
  },
  {
   "cell_type": "code",
   "execution_count": null,
   "id": "54a39ca9-99e6-4477-a314-73d5f4c5163f",
   "metadata": {},
   "outputs": [],
   "source": []
  },
  {
   "cell_type": "code",
   "execution_count": null,
   "id": "0dd6a795-604f-43b8-b08e-ca3c395f05f1",
   "metadata": {},
   "outputs": [],
   "source": []
  }
 ],
 "metadata": {
  "kernelspec": {
   "display_name": "Python 3 (ipykernel)",
   "language": "python",
   "name": "python3"
  },
  "language_info": {
   "codemirror_mode": {
    "name": "ipython",
    "version": 3
   },
   "file_extension": ".py",
   "mimetype": "text/x-python",
   "name": "python",
   "nbconvert_exporter": "python",
   "pygments_lexer": "ipython3",
   "version": "3.11.0"
  }
 },
 "nbformat": 4,
 "nbformat_minor": 5
}
